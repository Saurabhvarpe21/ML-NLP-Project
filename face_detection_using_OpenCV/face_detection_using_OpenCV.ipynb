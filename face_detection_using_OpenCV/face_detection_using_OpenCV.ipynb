{
 "cells": [
  {
   "cell_type": "markdown",
   "id": "7011f48f",
   "metadata": {},
   "source": [
    "# Face_Detection_Using_OPenCV"
   ]
  },
  {
   "cell_type": "markdown",
   "id": "1dd7c2ec",
   "metadata": {},
   "source": [
    "Face detection is a computer vision technique that involves identifying human faces in images or videos.\n",
    "OpenCV (Open Source Computer Vision Library) is an open-source computer vision \n",
    "and machine learning software library that provides tools for image and video processing.\n",
    "OpenCV provides various pre-trained Haar cascades, which can be used for face detection.\n",
    "These cascades are XML files that contain information about the features of the face, \n",
    "which are used to detect the face. Haar cascades use machine learning algorithms and can detect faces of different \n",
    "sizes and orientations.\n",
    "The basic steps for face detection using OpenCV are:\n",
    "1.Load the classifier: The first step is to load the face detection classifier. \n",
    "OpenCV provides several pre-trained classifiers for face detection, such as the haarcascade_frontalface_default.xml, \n",
    "haarcascade_profileface.xml, etc.\n",
    "2.Load the image: Load the image or video frame you want to detect faces in.\n",
    "3.Convert the image to grayscale: The face detection algorithm works better on grayscale images, \n",
    "so it's recommended to convert the input image to grayscale.\n",
    "4.Detect faces: Apply the classifier to the grayscale image to detect faces. \n",
    "    The detectMultiScale() method is used to detect objects at different scales. \n",
    "    This method takes the following parameters:\n",
    "gray: The grayscale image\n",
    "scaleFactor: How much the image size is reduced at each image scale. This parameter affects the detection speed and accuracy.\n",
    "minNeighbors: How many neighbors each rectangle should have to retain it. This parameter controls the false positives.\n",
    "minSize: Minimum size of the object. Objects smaller than this size will be ignored.\n",
    "maxSize: Maximum size of the object. Objects larger than this size will be ignored.\n",
    "Draw a rectangle around the detected faces: Once the faces are detected, draw a rectangle around them.\n",
    "Display the image: Display the image with the detected faces."
   ]
  },
  {
   "cell_type": "markdown",
   "id": "a06c9302",
   "metadata": {},
   "source": [
    "To perform face detection using OpenCV, you ca\n",
    "n follow the following steps:\n",
    "Import the necessary libraries:\n",
    "Load the face detection classifier:\n",
    "Load the image or video you want to detect faces in:\n",
    "Convert the image to grayscale:\n",
    "Detect faces in the image using the face detection classifier:\n",
    "Draw rectangles around the detected faces:\n",
    "Display the image with the detected faces:\n",
    "Here's the complete code for face detection using OpenCV:"
   ]
  },
  {
   "cell_type": "code",
   "execution_count": 1,
   "id": "6ce8af4c",
   "metadata": {},
   "outputs": [],
   "source": [
    "import cv2\n",
    "\n",
    "face_cascade = cv2.CascadeClassifier(cv2.data.haarcascades + 'haarcascade_frontalface_default.xml')\n",
    "\n",
    "img = cv2.imread('image.jpg')\n",
    "gray = cv2.cvtColor(img, cv2.COLOR_BGR2GRAY)\n",
    "\n",
    "faces = face_cascade.detectMultiScale(gray, scaleFactor=1.1, minNeighbors=5)\n",
    "\n",
    "for (x, y, w, h) in faces:\n",
    "    cv2.rectangle(img, (x, y), (x+w, y+h), (0, 255, 0), 2)\n",
    "\n",
    "cv2.imshow('image', img)\n",
    "cv2.waitKey(0)\n",
    "cv2.destroyAllWindows()\n"
   ]
  },
  {
   "cell_type": "code",
   "execution_count": null,
   "id": "5fb4bbdb",
   "metadata": {},
   "outputs": [],
   "source": []
  }
 ],
 "metadata": {
  "kernelspec": {
   "display_name": "Python 3 (ipykernel)",
   "language": "python",
   "name": "python3"
  },
  "language_info": {
   "codemirror_mode": {
    "name": "ipython",
    "version": 3
   },
   "file_extension": ".py",
   "mimetype": "text/x-python",
   "name": "python",
   "nbconvert_exporter": "python",
   "pygments_lexer": "ipython3",
   "version": "3.9.13"
  }
 },
 "nbformat": 4,
 "nbformat_minor": 5
}
