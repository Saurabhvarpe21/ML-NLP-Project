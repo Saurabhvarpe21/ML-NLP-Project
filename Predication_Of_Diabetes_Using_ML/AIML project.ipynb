{
 "cells": [
  {
   "cell_type": "markdown",
   "id": "95f78720",
   "metadata": {},
   "source": [
    "# Importing essential libraries"
   ]
  },
  {
   "cell_type": "code",
   "execution_count": 14,
   "id": "d44be7f4",
   "metadata": {},
   "outputs": [],
   "source": [
    "import numpy as np\n",
    "import pandas as pd\n",
    "import seaborn as sns\n",
    "import matplotlib.pyplot as plt\n",
    "import pickle\n",
    "import warnings\n",
    "warnings.filterwarnings('ignore')\n",
    "from sklearn.metrics import classification_report,confusion_matrix,accuracy_score,plot_confusion_matrix,precision_score,recall_score,f1_score\n",
    "from sklearn.ensemble import RandomForestClassifier,AdaBoostClassifier\n",
    "from sklearn.linear_model import LogisticRegression\n",
    "from sklearn.model_selection import train_test_split,GridSearchCV,RandomizedSearchCV\n",
    "from sklearn.neighbors import KNeighborsClassifier"
   ]
  },
  {
   "cell_type": "markdown",
   "id": "cec63c97",
   "metadata": {},
   "source": [
    "# Loading the dataset"
   ]
  },
  {
   "cell_type": "code",
   "execution_count": 15,
   "id": "5ed8ea80",
   "metadata": {
    "scrolled": true
   },
   "outputs": [],
   "source": [
    "df = pd.read_csv('diabetes.csv')"
   ]
  },
  {
   "cell_type": "code",
   "execution_count": 16,
   "id": "9bb20c93",
   "metadata": {},
   "outputs": [
    {
     "name": "stdout",
     "output_type": "stream",
     "text": [
      "Shape of the Data::: (768, 9)\n"
     ]
    }
   ],
   "source": [
    "print('Shape of the Data:::',df.shape)"
   ]
  },
  {
   "cell_type": "code",
   "execution_count": 17,
   "id": "a6e1d131",
   "metadata": {},
   "outputs": [
    {
     "data": {
      "text/html": [
       "<div>\n",
       "<style scoped>\n",
       "    .dataframe tbody tr th:only-of-type {\n",
       "        vertical-align: middle;\n",
       "    }\n",
       "\n",
       "    .dataframe tbody tr th {\n",
       "        vertical-align: top;\n",
       "    }\n",
       "\n",
       "    .dataframe thead th {\n",
       "        text-align: right;\n",
       "    }\n",
       "</style>\n",
       "<table border=\"1\" class=\"dataframe\">\n",
       "  <thead>\n",
       "    <tr style=\"text-align: right;\">\n",
       "      <th></th>\n",
       "      <th>Pregnancies</th>\n",
       "      <th>Glucose</th>\n",
       "      <th>BloodPressure</th>\n",
       "      <th>SkinThickness</th>\n",
       "      <th>Insulin</th>\n",
       "      <th>BMI</th>\n",
       "      <th>DiabetesPedigreeFunction</th>\n",
       "      <th>Age</th>\n",
       "      <th>Outcome</th>\n",
       "    </tr>\n",
       "  </thead>\n",
       "  <tbody>\n",
       "    <tr>\n",
       "      <th>0</th>\n",
       "      <td>6</td>\n",
       "      <td>148</td>\n",
       "      <td>72</td>\n",
       "      <td>35</td>\n",
       "      <td>0</td>\n",
       "      <td>33.6</td>\n",
       "      <td>0.627</td>\n",
       "      <td>50</td>\n",
       "      <td>1</td>\n",
       "    </tr>\n",
       "    <tr>\n",
       "      <th>1</th>\n",
       "      <td>1</td>\n",
       "      <td>85</td>\n",
       "      <td>66</td>\n",
       "      <td>29</td>\n",
       "      <td>0</td>\n",
       "      <td>26.6</td>\n",
       "      <td>0.351</td>\n",
       "      <td>31</td>\n",
       "      <td>0</td>\n",
       "    </tr>\n",
       "    <tr>\n",
       "      <th>2</th>\n",
       "      <td>8</td>\n",
       "      <td>183</td>\n",
       "      <td>64</td>\n",
       "      <td>0</td>\n",
       "      <td>0</td>\n",
       "      <td>23.3</td>\n",
       "      <td>0.672</td>\n",
       "      <td>32</td>\n",
       "      <td>1</td>\n",
       "    </tr>\n",
       "    <tr>\n",
       "      <th>3</th>\n",
       "      <td>1</td>\n",
       "      <td>89</td>\n",
       "      <td>66</td>\n",
       "      <td>23</td>\n",
       "      <td>94</td>\n",
       "      <td>28.1</td>\n",
       "      <td>0.167</td>\n",
       "      <td>21</td>\n",
       "      <td>0</td>\n",
       "    </tr>\n",
       "    <tr>\n",
       "      <th>4</th>\n",
       "      <td>0</td>\n",
       "      <td>137</td>\n",
       "      <td>40</td>\n",
       "      <td>35</td>\n",
       "      <td>168</td>\n",
       "      <td>43.1</td>\n",
       "      <td>2.288</td>\n",
       "      <td>33</td>\n",
       "      <td>1</td>\n",
       "    </tr>\n",
       "  </tbody>\n",
       "</table>\n",
       "</div>"
      ],
      "text/plain": [
       "   Pregnancies  Glucose  BloodPressure  SkinThickness  Insulin   BMI  \\\n",
       "0            6      148             72             35        0  33.6   \n",
       "1            1       85             66             29        0  26.6   \n",
       "2            8      183             64              0        0  23.3   \n",
       "3            1       89             66             23       94  28.1   \n",
       "4            0      137             40             35      168  43.1   \n",
       "\n",
       "   DiabetesPedigreeFunction  Age  Outcome  \n",
       "0                     0.627   50        1  \n",
       "1                     0.351   31        0  \n",
       "2                     0.672   32        1  \n",
       "3                     0.167   21        0  \n",
       "4                     2.288   33        1  "
      ]
     },
     "execution_count": 17,
     "metadata": {},
     "output_type": "execute_result"
    }
   ],
   "source": [
    "df.head()"
   ]
  },
  {
   "cell_type": "code",
   "execution_count": 18,
   "id": "b52a0eae",
   "metadata": {},
   "outputs": [
    {
     "name": "stdout",
     "output_type": "stream",
     "text": [
      "<class 'pandas.core.frame.DataFrame'>\n",
      "RangeIndex: 768 entries, 0 to 767\n",
      "Data columns (total 9 columns):\n",
      " #   Column                    Non-Null Count  Dtype  \n",
      "---  ------                    --------------  -----  \n",
      " 0   Pregnancies               768 non-null    int64  \n",
      " 1   Glucose                   768 non-null    int64  \n",
      " 2   BloodPressure             768 non-null    int64  \n",
      " 3   SkinThickness             768 non-null    int64  \n",
      " 4   Insulin                   768 non-null    int64  \n",
      " 5   BMI                       768 non-null    float64\n",
      " 6   DiabetesPedigreeFunction  768 non-null    float64\n",
      " 7   Age                       768 non-null    int64  \n",
      " 8   Outcome                   768 non-null    int64  \n",
      "dtypes: float64(2), int64(7)\n",
      "memory usage: 54.1 KB\n"
     ]
    }
   ],
   "source": [
    "df.info()  "
   ]
  },
  {
   "cell_type": "code",
   "execution_count": 19,
   "id": "6f0f3bd8",
   "metadata": {},
   "outputs": [
    {
     "data": {
      "text/html": [
       "<div>\n",
       "<style scoped>\n",
       "    .dataframe tbody tr th:only-of-type {\n",
       "        vertical-align: middle;\n",
       "    }\n",
       "\n",
       "    .dataframe tbody tr th {\n",
       "        vertical-align: top;\n",
       "    }\n",
       "\n",
       "    .dataframe thead th {\n",
       "        text-align: right;\n",
       "    }\n",
       "</style>\n",
       "<table border=\"1\" class=\"dataframe\">\n",
       "  <thead>\n",
       "    <tr style=\"text-align: right;\">\n",
       "      <th></th>\n",
       "      <th>Pregnancies</th>\n",
       "      <th>Glucose</th>\n",
       "      <th>BloodPressure</th>\n",
       "      <th>SkinThickness</th>\n",
       "      <th>Insulin</th>\n",
       "      <th>BMI</th>\n",
       "      <th>DiabetesPedigreeFunction</th>\n",
       "      <th>Age</th>\n",
       "      <th>Outcome</th>\n",
       "    </tr>\n",
       "  </thead>\n",
       "  <tbody>\n",
       "    <tr>\n",
       "      <th>count</th>\n",
       "      <td>768.000000</td>\n",
       "      <td>768.000000</td>\n",
       "      <td>768.000000</td>\n",
       "      <td>768.000000</td>\n",
       "      <td>768.000000</td>\n",
       "      <td>768.000000</td>\n",
       "      <td>768.000000</td>\n",
       "      <td>768.000000</td>\n",
       "      <td>768.000000</td>\n",
       "    </tr>\n",
       "    <tr>\n",
       "      <th>mean</th>\n",
       "      <td>3.845052</td>\n",
       "      <td>120.894531</td>\n",
       "      <td>69.105469</td>\n",
       "      <td>20.536458</td>\n",
       "      <td>79.799479</td>\n",
       "      <td>31.992578</td>\n",
       "      <td>0.471876</td>\n",
       "      <td>33.240885</td>\n",
       "      <td>0.348958</td>\n",
       "    </tr>\n",
       "    <tr>\n",
       "      <th>std</th>\n",
       "      <td>3.369578</td>\n",
       "      <td>31.972618</td>\n",
       "      <td>19.355807</td>\n",
       "      <td>15.952218</td>\n",
       "      <td>115.244002</td>\n",
       "      <td>7.884160</td>\n",
       "      <td>0.331329</td>\n",
       "      <td>11.760232</td>\n",
       "      <td>0.476951</td>\n",
       "    </tr>\n",
       "    <tr>\n",
       "      <th>min</th>\n",
       "      <td>0.000000</td>\n",
       "      <td>0.000000</td>\n",
       "      <td>0.000000</td>\n",
       "      <td>0.000000</td>\n",
       "      <td>0.000000</td>\n",
       "      <td>0.000000</td>\n",
       "      <td>0.078000</td>\n",
       "      <td>21.000000</td>\n",
       "      <td>0.000000</td>\n",
       "    </tr>\n",
       "    <tr>\n",
       "      <th>25%</th>\n",
       "      <td>1.000000</td>\n",
       "      <td>99.000000</td>\n",
       "      <td>62.000000</td>\n",
       "      <td>0.000000</td>\n",
       "      <td>0.000000</td>\n",
       "      <td>27.300000</td>\n",
       "      <td>0.243750</td>\n",
       "      <td>24.000000</td>\n",
       "      <td>0.000000</td>\n",
       "    </tr>\n",
       "    <tr>\n",
       "      <th>50%</th>\n",
       "      <td>3.000000</td>\n",
       "      <td>117.000000</td>\n",
       "      <td>72.000000</td>\n",
       "      <td>23.000000</td>\n",
       "      <td>30.500000</td>\n",
       "      <td>32.000000</td>\n",
       "      <td>0.372500</td>\n",
       "      <td>29.000000</td>\n",
       "      <td>0.000000</td>\n",
       "    </tr>\n",
       "    <tr>\n",
       "      <th>75%</th>\n",
       "      <td>6.000000</td>\n",
       "      <td>140.250000</td>\n",
       "      <td>80.000000</td>\n",
       "      <td>32.000000</td>\n",
       "      <td>127.250000</td>\n",
       "      <td>36.600000</td>\n",
       "      <td>0.626250</td>\n",
       "      <td>41.000000</td>\n",
       "      <td>1.000000</td>\n",
       "    </tr>\n",
       "    <tr>\n",
       "      <th>max</th>\n",
       "      <td>17.000000</td>\n",
       "      <td>199.000000</td>\n",
       "      <td>122.000000</td>\n",
       "      <td>99.000000</td>\n",
       "      <td>846.000000</td>\n",
       "      <td>67.100000</td>\n",
       "      <td>2.420000</td>\n",
       "      <td>81.000000</td>\n",
       "      <td>1.000000</td>\n",
       "    </tr>\n",
       "  </tbody>\n",
       "</table>\n",
       "</div>"
      ],
      "text/plain": [
       "       Pregnancies     Glucose  BloodPressure  SkinThickness     Insulin  \\\n",
       "count   768.000000  768.000000     768.000000     768.000000  768.000000   \n",
       "mean      3.845052  120.894531      69.105469      20.536458   79.799479   \n",
       "std       3.369578   31.972618      19.355807      15.952218  115.244002   \n",
       "min       0.000000    0.000000       0.000000       0.000000    0.000000   \n",
       "25%       1.000000   99.000000      62.000000       0.000000    0.000000   \n",
       "50%       3.000000  117.000000      72.000000      23.000000   30.500000   \n",
       "75%       6.000000  140.250000      80.000000      32.000000  127.250000   \n",
       "max      17.000000  199.000000     122.000000      99.000000  846.000000   \n",
       "\n",
       "              BMI  DiabetesPedigreeFunction         Age     Outcome  \n",
       "count  768.000000                768.000000  768.000000  768.000000  \n",
       "mean    31.992578                  0.471876   33.240885    0.348958  \n",
       "std      7.884160                  0.331329   11.760232    0.476951  \n",
       "min      0.000000                  0.078000   21.000000    0.000000  \n",
       "25%     27.300000                  0.243750   24.000000    0.000000  \n",
       "50%     32.000000                  0.372500   29.000000    0.000000  \n",
       "75%     36.600000                  0.626250   41.000000    1.000000  \n",
       "max     67.100000                  2.420000   81.000000    1.000000  "
      ]
     },
     "execution_count": 19,
     "metadata": {},
     "output_type": "execute_result"
    }
   ],
   "source": [
    "df.describe()"
   ]
  },
  {
   "cell_type": "code",
   "execution_count": 20,
   "id": "9835dba3",
   "metadata": {},
   "outputs": [
    {
     "data": {
      "text/plain": [
       "Pregnancies                 0\n",
       "Glucose                     0\n",
       "BloodPressure               0\n",
       "SkinThickness               0\n",
       "Insulin                     0\n",
       "BMI                         0\n",
       "DiabetesPedigreeFunction    0\n",
       "Age                         0\n",
       "Outcome                     0\n",
       "dtype: int64"
      ]
     },
     "execution_count": 20,
     "metadata": {},
     "output_type": "execute_result"
    }
   ],
   "source": [
    "df.isna().sum()"
   ]
  },
  {
   "cell_type": "code",
   "execution_count": 21,
   "id": "a7e73a0f",
   "metadata": {},
   "outputs": [
    {
     "data": {
      "text/plain": [
       "0"
      ]
     },
     "execution_count": 21,
     "metadata": {},
     "output_type": "execute_result"
    }
   ],
   "source": [
    "# Lets check the Duplicates columns \n",
    "df.duplicated().sum()"
   ]
  },
  {
   "cell_type": "markdown",
   "id": "8334678e",
   "metadata": {},
   "source": [
    "# EDA"
   ]
  },
  {
   "cell_type": "code",
   "execution_count": 28,
   "id": "91f4e6a7",
   "metadata": {},
   "outputs": [
    {
     "data": {
      "text/plain": [
       "<AxesSubplot: >"
      ]
     },
     "execution_count": 28,
     "metadata": {},
     "output_type": "execute_result"
    }
   ],
   "source": [
    "#plt.figure(figsize=(10,10))\n",
    "df.boxplot()"
   ]
  },
  {
   "cell_type": "markdown",
   "id": "be2a2dee",
   "metadata": {},
   "source": [
    "# 1)Pregnancies"
   ]
  },
  {
   "cell_type": "code",
   "execution_count": 23,
   "id": "5d868885",
   "metadata": {},
   "outputs": [
    {
     "data": {
      "text/plain": [
       "array([ 6,  1,  8,  0,  5,  3, 10,  2,  4,  7,  9, 11, 13, 15, 17, 12, 14],\n",
       "      dtype=int64)"
      ]
     },
     "execution_count": 23,
     "metadata": {},
     "output_type": "execute_result"
    }
   ],
   "source": [
    "df['Pregnancies'].unique()"
   ]
  },
  {
   "cell_type": "code",
   "execution_count": 24,
   "id": "667dd185",
   "metadata": {},
   "outputs": [
    {
     "data": {
      "text/plain": [
       "17"
      ]
     },
     "execution_count": 24,
     "metadata": {},
     "output_type": "execute_result"
    }
   ],
   "source": [
    "df['Pregnancies'].nunique()"
   ]
  },
  {
   "cell_type": "code",
   "execution_count": 25,
   "id": "bb099110",
   "metadata": {
    "scrolled": true
   },
   "outputs": [
    {
     "data": {
      "text/plain": [
       "1     135\n",
       "0     111\n",
       "2     103\n",
       "3      75\n",
       "4      68\n",
       "5      57\n",
       "6      50\n",
       "7      45\n",
       "8      38\n",
       "9      28\n",
       "10     24\n",
       "11     11\n",
       "13     10\n",
       "12      9\n",
       "14      2\n",
       "15      1\n",
       "17      1\n",
       "Name: Pregnancies, dtype: int64"
      ]
     },
     "execution_count": 25,
     "metadata": {},
     "output_type": "execute_result"
    }
   ],
   "source": [
    "df['Pregnancies'].value_counts()"
   ]
  },
  {
   "cell_type": "code",
   "execution_count": null,
   "id": "7742e9e6",
   "metadata": {},
   "outputs": [],
   "source": [
    "df['Pregnancies']."
   ]
  },
  {
   "cell_type": "code",
   "execution_count": 26,
   "id": "52ef4ee8",
   "metadata": {},
   "outputs": [
    {
     "data": {
      "text/plain": [
       "<AxesSubplot: >"
      ]
     },
     "execution_count": 26,
     "metadata": {},
     "output_type": "execute_result"
    }
   ],
   "source": [
    "sns.boxplot(df['Pregnancies'])"
   ]
  },
  {
   "cell_type": "markdown",
   "id": "51b0d0b2",
   "metadata": {},
   "source": [
    "# 2)Glucose"
   ]
  },
  {
   "cell_type": "code",
   "execution_count": 13,
   "id": "60b7139d",
   "metadata": {},
   "outputs": [
    {
     "data": {
      "text/plain": [
       "array([148,  85, 183,  89, 137, 116,  78, 115, 197, 125, 110, 168, 139,\n",
       "       189, 166, 100, 118, 107, 103, 126,  99, 196, 119, 143, 147,  97,\n",
       "       145, 117, 109, 158,  88,  92, 122, 138, 102,  90, 111, 180, 133,\n",
       "       106, 171, 159, 146,  71, 105, 101, 176, 150,  73, 187,  84,  44,\n",
       "       141, 114,  95, 129,  79,   0,  62, 131, 112, 113,  74,  83, 136,\n",
       "        80, 123,  81, 134, 142, 144,  93, 163, 151,  96, 155,  76, 160,\n",
       "       124, 162, 132, 120, 173, 170, 128, 108, 154,  57, 156, 153, 188,\n",
       "       152, 104,  87,  75, 179, 130, 194, 181, 135, 184, 140, 177, 164,\n",
       "        91, 165,  86, 193, 191, 161, 167,  77, 182, 157, 178,  61,  98,\n",
       "       127,  82,  72, 172,  94, 175, 195,  68, 186, 198, 121,  67, 174,\n",
       "       199,  56, 169, 149,  65, 190], dtype=int64)"
      ]
     },
     "execution_count": 13,
     "metadata": {},
     "output_type": "execute_result"
    }
   ],
   "source": [
    "df['Glucose'].unique()"
   ]
  },
  {
   "cell_type": "code",
   "execution_count": 14,
   "id": "a73802f8",
   "metadata": {},
   "outputs": [
    {
     "data": {
      "text/plain": [
       "136"
      ]
     },
     "execution_count": 14,
     "metadata": {},
     "output_type": "execute_result"
    }
   ],
   "source": [
    "df['Glucose'].nunique()"
   ]
  },
  {
   "cell_type": "code",
   "execution_count": 15,
   "id": "d9d588c7",
   "metadata": {
    "scrolled": true
   },
   "outputs": [
    {
     "data": {
      "text/plain": [
       "99     17\n",
       "100    17\n",
       "111    14\n",
       "129    14\n",
       "125    14\n",
       "       ..\n",
       "191     1\n",
       "177     1\n",
       "44      1\n",
       "62      1\n",
       "190     1\n",
       "Name: Glucose, Length: 136, dtype: int64"
      ]
     },
     "execution_count": 15,
     "metadata": {},
     "output_type": "execute_result"
    }
   ],
   "source": [
    "df['Glucose'].value_counts()"
   ]
  },
  {
   "cell_type": "code",
   "execution_count": 16,
   "id": "4b56291e",
   "metadata": {},
   "outputs": [],
   "source": [
    "#need to repace 0 to Nan and then handling messing vaues with [[ mean ]] because Glucose laval can not be zero"
   ]
  },
  {
   "cell_type": "markdown",
   "id": "4e2163b6",
   "metadata": {},
   "source": [
    "# 3)BloodPressure"
   ]
  },
  {
   "cell_type": "code",
   "execution_count": 17,
   "id": "e20c01a8",
   "metadata": {},
   "outputs": [
    {
     "data": {
      "text/plain": [
       "array([ 72,  66,  64,  40,  74,  50,   0,  70,  96,  92,  80,  60,  84,\n",
       "        30,  88,  90,  94,  76,  82,  75,  58,  78,  68, 110,  56,  62,\n",
       "        85,  86,  48,  44,  65, 108,  55, 122,  54,  52,  98, 104,  95,\n",
       "        46, 102, 100,  61,  24,  38, 106, 114], dtype=int64)"
      ]
     },
     "execution_count": 17,
     "metadata": {},
     "output_type": "execute_result"
    }
   ],
   "source": [
    "df['BloodPressure'].unique()"
   ]
  },
  {
   "cell_type": "code",
   "execution_count": 18,
   "id": "bb02f1e4",
   "metadata": {},
   "outputs": [
    {
     "data": {
      "text/plain": [
       "47"
      ]
     },
     "execution_count": 18,
     "metadata": {},
     "output_type": "execute_result"
    }
   ],
   "source": [
    "df['BloodPressure'].nunique()"
   ]
  },
  {
   "cell_type": "code",
   "execution_count": 19,
   "id": "3126d63c",
   "metadata": {},
   "outputs": [
    {
     "data": {
      "text/plain": [
       "70    57\n",
       "74    52\n",
       "78    45\n",
       "68    45\n",
       "72    44\n",
       "64    43\n",
       "80    40\n",
       "76    39\n",
       "60    37\n",
       "0     35\n",
       "Name: BloodPressure, dtype: int64"
      ]
     },
     "execution_count": 19,
     "metadata": {},
     "output_type": "execute_result"
    }
   ],
   "source": [
    "df['BloodPressure'].value_counts().head(10)"
   ]
  },
  {
   "cell_type": "code",
   "execution_count": 20,
   "id": "d89b6579",
   "metadata": {},
   "outputs": [],
   "source": [
    "#need to repace 0 to Nan and then handling messing vaues with [[ mean ]] because BloodPressure laval can not be zero"
   ]
  },
  {
   "cell_type": "markdown",
   "id": "8d10131a",
   "metadata": {},
   "source": [
    "# 4)SkinThickness"
   ]
  },
  {
   "cell_type": "code",
   "execution_count": 21,
   "id": "cec4cfc2",
   "metadata": {},
   "outputs": [
    {
     "data": {
      "text/plain": [
       "array([35, 29,  0, 23, 32, 45, 19, 47, 38, 30, 41, 33, 26, 15, 36, 11, 31,\n",
       "       37, 42, 25, 18, 24, 39, 27, 21, 34, 10, 60, 13, 20, 22, 28, 54, 40,\n",
       "       51, 56, 14, 17, 50, 44, 12, 46, 16,  7, 52, 43, 48,  8, 49, 63, 99],\n",
       "      dtype=int64)"
      ]
     },
     "execution_count": 21,
     "metadata": {},
     "output_type": "execute_result"
    }
   ],
   "source": [
    "df['SkinThickness'].unique()"
   ]
  },
  {
   "cell_type": "code",
   "execution_count": 22,
   "id": "c138fa60",
   "metadata": {},
   "outputs": [
    {
     "data": {
      "text/plain": [
       "0     227\n",
       "32     31\n",
       "30     27\n",
       "Name: SkinThickness, dtype: int64"
      ]
     },
     "execution_count": 22,
     "metadata": {},
     "output_type": "execute_result"
    }
   ],
   "source": [
    "df['SkinThickness'].value_counts().head(3)"
   ]
  },
  {
   "cell_type": "code",
   "execution_count": 23,
   "id": "dc24e01c",
   "metadata": {},
   "outputs": [],
   "source": [
    "#need to repace 0 to Nan and then handling messing vaues with [[ median ]] because BloodPressure laval can not be zero\n",
    "# value by mean, median depending upon distribution"
   ]
  },
  {
   "cell_type": "markdown",
   "id": "4cad648a",
   "metadata": {},
   "source": [
    "# 5)Insulin"
   ]
  },
  {
   "cell_type": "code",
   "execution_count": 24,
   "id": "9873b16a",
   "metadata": {},
   "outputs": [
    {
     "data": {
      "text/plain": [
       "186"
      ]
     },
     "execution_count": 24,
     "metadata": {},
     "output_type": "execute_result"
    }
   ],
   "source": [
    "df['Insulin'].nunique()"
   ]
  },
  {
   "cell_type": "code",
   "execution_count": 25,
   "id": "d9369593",
   "metadata": {},
   "outputs": [
    {
     "data": {
      "text/plain": [
       "0      374\n",
       "105     11\n",
       "130      9\n",
       "140      9\n",
       "120      8\n",
       "      ... \n",
       "73       1\n",
       "171      1\n",
       "255      1\n",
       "52       1\n",
       "112      1\n",
       "Name: Insulin, Length: 186, dtype: int64"
      ]
     },
     "execution_count": 25,
     "metadata": {},
     "output_type": "execute_result"
    }
   ],
   "source": [
    "df['Insulin'].value_counts()"
   ]
  },
  {
   "cell_type": "code",
   "execution_count": 26,
   "id": "4be101ea",
   "metadata": {},
   "outputs": [],
   "source": [
    "#need to repace 0 to Nan and then handling messing vaues with [[ median ]] because BloodPressure laval can not be zero\n",
    "# value by mean, median depending upon distribution\n",
    "# no need to encoading all are in numerical formate...."
   ]
  },
  {
   "cell_type": "markdown",
   "id": "c01c7c82",
   "metadata": {},
   "source": [
    "# 6)BMI"
   ]
  },
  {
   "cell_type": "code",
   "execution_count": 27,
   "id": "80dbefd0",
   "metadata": {},
   "outputs": [
    {
     "data": {
      "text/plain": [
       "248"
      ]
     },
     "execution_count": 27,
     "metadata": {},
     "output_type": "execute_result"
    }
   ],
   "source": [
    "df['BMI'].nunique()"
   ]
  },
  {
   "cell_type": "code",
   "execution_count": 28,
   "id": "e7ae7143",
   "metadata": {},
   "outputs": [
    {
     "data": {
      "text/plain": [
       "32.0    13\n",
       "31.6    12\n",
       "31.2    12\n",
       "0.0     11\n",
       "32.4    10\n",
       "        ..\n",
       "36.7     1\n",
       "41.8     1\n",
       "42.6     1\n",
       "42.8     1\n",
       "46.3     1\n",
       "Name: BMI, Length: 248, dtype: int64"
      ]
     },
     "execution_count": 28,
     "metadata": {},
     "output_type": "execute_result"
    }
   ],
   "source": [
    "df['BMI'].value_counts()"
   ]
  },
  {
   "cell_type": "code",
   "execution_count": 29,
   "id": "405899d5",
   "metadata": {},
   "outputs": [],
   "source": [
    "#need to repace 0 to Nan and then handling messing vaues with [[ median ]] because BloodPressure laval can not be zero\n",
    "# value by mean, median depending upon distribution\n",
    "# no need to encoading all are in numerical formate...."
   ]
  },
  {
   "cell_type": "markdown",
   "id": "76e19862",
   "metadata": {},
   "source": [
    "# 7)DiabetesPedigreeFunction"
   ]
  },
  {
   "cell_type": "code",
   "execution_count": 30,
   "id": "2387c51b",
   "metadata": {},
   "outputs": [
    {
     "data": {
      "text/plain": [
       "517"
      ]
     },
     "execution_count": 30,
     "metadata": {},
     "output_type": "execute_result"
    }
   ],
   "source": [
    "df['DiabetesPedigreeFunction'].nunique()"
   ]
  },
  {
   "cell_type": "code",
   "execution_count": 31,
   "id": "4523bea0",
   "metadata": {},
   "outputs": [
    {
     "data": {
      "text/plain": [
       "0.258    6\n",
       "0.254    6\n",
       "0.268    5\n",
       "0.207    5\n",
       "0.261    5\n",
       "        ..\n",
       "1.353    1\n",
       "0.655    1\n",
       "0.092    1\n",
       "0.926    1\n",
       "0.171    1\n",
       "Name: DiabetesPedigreeFunction, Length: 517, dtype: int64"
      ]
     },
     "execution_count": 31,
     "metadata": {},
     "output_type": "execute_result"
    }
   ],
   "source": [
    "df['DiabetesPedigreeFunction'].value_counts()"
   ]
  },
  {
   "cell_type": "markdown",
   "id": "08a2d481",
   "metadata": {},
   "source": [
    "# 8)Age"
   ]
  },
  {
   "cell_type": "code",
   "execution_count": 32,
   "id": "59b45460",
   "metadata": {},
   "outputs": [
    {
     "data": {
      "text/plain": [
       "array([50, 31, 32, 21, 33, 30, 26, 29, 53, 54, 34, 57, 59, 51, 27, 41, 43,\n",
       "       22, 38, 60, 28, 45, 35, 46, 56, 37, 48, 40, 25, 24, 58, 42, 44, 39,\n",
       "       36, 23, 61, 69, 62, 55, 65, 47, 52, 66, 49, 63, 67, 72, 81, 64, 70,\n",
       "       68], dtype=int64)"
      ]
     },
     "execution_count": 32,
     "metadata": {},
     "output_type": "execute_result"
    }
   ],
   "source": [
    "df['Age'].unique()"
   ]
  },
  {
   "cell_type": "code",
   "execution_count": 33,
   "id": "61cd303b",
   "metadata": {},
   "outputs": [
    {
     "data": {
      "text/plain": [
       "52"
      ]
     },
     "execution_count": 33,
     "metadata": {},
     "output_type": "execute_result"
    }
   ],
   "source": [
    "df['Age'].nunique()"
   ]
  },
  {
   "cell_type": "code",
   "execution_count": 34,
   "id": "d6bda36e",
   "metadata": {},
   "outputs": [
    {
     "data": {
      "text/plain": [
       "22    72\n",
       "21    63\n",
       "25    48\n",
       "24    46\n",
       "23    38\n",
       "Name: Age, dtype: int64"
      ]
     },
     "execution_count": 34,
     "metadata": {},
     "output_type": "execute_result"
    }
   ],
   "source": [
    "df['Age'].value_counts().head(5)"
   ]
  },
  {
   "cell_type": "markdown",
   "id": "53938ae2",
   "metadata": {},
   "source": [
    "# Feture engineering"
   ]
  },
  {
   "cell_type": "code",
   "execution_count": 35,
   "id": "b786f497",
   "metadata": {},
   "outputs": [],
   "source": [
    "# Replacing NaN value by mean, median depending upon distribution\n",
    "df[['Glucose','BloodPressure','SkinThickness','Insulin','BMI']] = df[['Glucose','BloodPressure','SkinThickness','Insulin','BMI']].replace(0,np.NaN)\n",
    "\n",
    "df['Glucose'].fillna(df['Glucose'].mean(), inplace=True)\n",
    "df['BloodPressure'].fillna(df['BloodPressure'].mean(), inplace=True)\n",
    "df['SkinThickness'].fillna(df['SkinThickness'].median(), inplace=True)\n",
    "df['Insulin'].fillna(df['Insulin'].median(), inplace=True)\n",
    "df['BMI'].fillna(df['BMI'].median(), inplace=True)"
   ]
  },
  {
   "cell_type": "code",
   "execution_count": 36,
   "id": "bfc2956d",
   "metadata": {},
   "outputs": [],
   "source": [
    "# handling all zeros with mean, median depending upon distribution"
   ]
  },
  {
   "cell_type": "markdown",
   "id": "b607c74a",
   "metadata": {},
   "source": [
    "# 9 ) Outcome"
   ]
  },
  {
   "cell_type": "code",
   "execution_count": 37,
   "id": "8382086a",
   "metadata": {},
   "outputs": [
    {
     "data": {
      "text/plain": [
       "array([1, 0], dtype=int64)"
      ]
     },
     "execution_count": 37,
     "metadata": {},
     "output_type": "execute_result"
    }
   ],
   "source": [
    "df['Outcome'].unique() ## target contain 0 or 1 this is the problem of classification"
   ]
  },
  {
   "cell_type": "code",
   "execution_count": 38,
   "id": "869c3ac7",
   "metadata": {
    "scrolled": true
   },
   "outputs": [
    {
     "data": {
      "text/plain": [
       "0    500\n",
       "1    268\n",
       "Name: Outcome, dtype: int64"
      ]
     },
     "execution_count": 38,
     "metadata": {},
     "output_type": "execute_result"
    }
   ],
   "source": [
    "df['Outcome'].value_counts()"
   ]
  },
  {
   "cell_type": "code",
   "execution_count": 39,
   "id": "97319440",
   "metadata": {},
   "outputs": [
    {
     "data": {
      "text/plain": [
       "0    0.651042\n",
       "1    0.348958\n",
       "Name: Outcome, dtype: float64"
      ]
     },
     "execution_count": 39,
     "metadata": {},
     "output_type": "execute_result"
    }
   ],
   "source": [
    "df['Outcome'].value_counts(normalize=True)  # cheak for data balance or imbalcnace "
   ]
  },
  {
   "cell_type": "markdown",
   "id": "70d6cad3",
   "metadata": {},
   "source": [
    "# Model Building"
   ]
  },
  {
   "cell_type": "code",
   "execution_count": 40,
   "id": "ec77a45f",
   "metadata": {},
   "outputs": [],
   "source": [
    "x = df.drop(columns='Outcome')\n",
    "y = df['Outcome']"
   ]
  },
  {
   "cell_type": "code",
   "execution_count": 41,
   "id": "91cb1a1d",
   "metadata": {},
   "outputs": [],
   "source": [
    "x_train, x_test, y_train, y_test = train_test_split(x, y, test_size=0.20, random_state=0)"
   ]
  },
  {
   "cell_type": "code",
   "execution_count": 42,
   "id": "48a04711",
   "metadata": {
    "scrolled": true
   },
   "outputs": [
    {
     "name": "stdout",
     "output_type": "stream",
     "text": [
      "x_train:: (614, 8)\n",
      "x_test:: (154, 8)\n",
      "y_train:: (614,)\n",
      "y_test:: (154,)\n"
     ]
    }
   ],
   "source": [
    "print('x_train::',x_train.shape)\n",
    "print('x_test::',x_test.shape)\n",
    "print('y_train::',y_train.shape)\n",
    "print('y_test::',y_test.shape)"
   ]
  },
  {
   "cell_type": "markdown",
   "id": "2cbf42e3",
   "metadata": {},
   "source": [
    "## LOG_Reg base model"
   ]
  },
  {
   "cell_type": "code",
   "execution_count": 43,
   "id": "252c1775",
   "metadata": {},
   "outputs": [
    {
     "data": {
      "text/plain": [
       "LogisticRegression()"
      ]
     },
     "execution_count": 43,
     "metadata": {},
     "output_type": "execute_result"
    }
   ],
   "source": [
    "log_reg=LogisticRegression()\n",
    "log_reg.fit(x_train,y_train)"
   ]
  },
  {
   "cell_type": "code",
   "execution_count": 44,
   "id": "bdb79d3b",
   "metadata": {},
   "outputs": [
    {
     "name": "stdout",
     "output_type": "stream",
     "text": [
      "CONFUSION_MATRIX:\n",
      " [[95 12]\n",
      " [16 31]]\n",
      "classification_report:\n",
      "               precision    recall  f1-score   support\n",
      "\n",
      "           0       0.86      0.89      0.87       107\n",
      "           1       0.72      0.66      0.69        47\n",
      "\n",
      "    accuracy                           0.82       154\n",
      "   macro avg       0.79      0.77      0.78       154\n",
      "weighted avg       0.81      0.82      0.82       154\n",
      "\n"
     ]
    }
   ],
   "source": [
    "#testing Evaluation\n",
    "y_predict_test=log_reg.predict(x_test)\n",
    "cnf_matrix=confusion_matrix(y_test,y_predict_test)\n",
    "clss_report=classification_report(y_test,y_predict_test)\n",
    "print('CONFUSION_MATRIX:\\n',cnf_matrix)\n",
    "print('classification_report:\\n',clss_report)"
   ]
  },
  {
   "cell_type": "code",
   "execution_count": 45,
   "id": "3f224aac",
   "metadata": {},
   "outputs": [
    {
     "name": "stdout",
     "output_type": "stream",
     "text": [
      "CONFUSION_MATRIX:\n",
      " [[345  48]\n",
      " [ 95 126]]\n",
      "classification_report:\n",
      "               precision    recall  f1-score   support\n",
      "\n",
      "           0       0.78      0.88      0.83       393\n",
      "           1       0.72      0.57      0.64       221\n",
      "\n",
      "    accuracy                           0.77       614\n",
      "   macro avg       0.75      0.72      0.73       614\n",
      "weighted avg       0.76      0.77      0.76       614\n",
      "\n"
     ]
    }
   ],
   "source": [
    "#Training Evaluation\n",
    "y_predict_train=log_reg.predict(x_train)\n",
    "cnf_matrix=confusion_matrix(y_train,y_predict_train)\n",
    "clss_report=classification_report(y_train,y_predict_train)\n",
    "print('CONFUSION_MATRIX:\\n',cnf_matrix)\n",
    "print('classification_report:\\n',clss_report)"
   ]
  },
  {
   "cell_type": "code",
   "execution_count": 46,
   "id": "02ed348d",
   "metadata": {},
   "outputs": [
    {
     "name": "stdout",
     "output_type": "stream",
     "text": [
      "Accuracy For Testing: 0.82\n",
      "Accuracy For Training: 0.77\n"
     ]
    }
   ],
   "source": [
    "print('Accuracy For Testing:',np.around(accuracy_score(y_test,y_predict_test),2))\n",
    "print('Accuracy For Training:',np.around(accuracy_score(y_train,y_predict_train),2))"
   ]
  },
  {
   "cell_type": "markdown",
   "id": "a33c5486",
   "metadata": {},
   "source": [
    "# KNN"
   ]
  },
  {
   "cell_type": "code",
   "execution_count": 47,
   "id": "125470e1",
   "metadata": {},
   "outputs": [
    {
     "name": "stdout",
     "output_type": "stream",
     "text": [
      "CONFUSION_MATRIX:\n",
      " [[90 17]\n",
      " [19 28]]\n",
      "classification_report:\n",
      "               precision    recall  f1-score   support\n",
      "\n",
      "           0       0.83      0.84      0.83       107\n",
      "           1       0.62      0.60      0.61        47\n",
      "\n",
      "    accuracy                           0.77       154\n",
      "   macro avg       0.72      0.72      0.72       154\n",
      "weighted avg       0.76      0.77      0.76       154\n",
      "\n"
     ]
    }
   ],
   "source": [
    "knn_clf=KNeighborsClassifier()\n",
    "knn_clf.fit(x_train,y_train)\n",
    "#testing Evaluation\n",
    "y_predict_test=knn_clf.predict(x_test)\n",
    "cnf_matrix=confusion_matrix(y_test,y_predict_test)\n",
    "clss_report=classification_report(y_test,y_predict_test)\n",
    "print('CONFUSION_MATRIX:\\n',cnf_matrix)\n",
    "print('classification_report:\\n',clss_report)"
   ]
  },
  {
   "cell_type": "code",
   "execution_count": 48,
   "id": "4fd2fcaf",
   "metadata": {
    "scrolled": true
   },
   "outputs": [
    {
     "name": "stdout",
     "output_type": "stream",
     "text": [
      "CONFUSION_MATRIX:\n",
      " [[349  44]\n",
      " [ 78 143]]\n",
      "classification_report:\n",
      "               precision    recall  f1-score   support\n",
      "\n",
      "           0       0.82      0.89      0.85       393\n",
      "           1       0.76      0.65      0.70       221\n",
      "\n",
      "    accuracy                           0.80       614\n",
      "   macro avg       0.79      0.77      0.78       614\n",
      "weighted avg       0.80      0.80      0.80       614\n",
      "\n"
     ]
    }
   ],
   "source": [
    "#Training Evaluation\n",
    "y_predict_train=knn_clf.predict(x_train)\n",
    "cnf_matrix=confusion_matrix(y_train,y_predict_train)\n",
    "clss_report=classification_report(y_train,y_predict_train)\n",
    "print('CONFUSION_MATRIX:\\n',cnf_matrix)\n",
    "print('classification_report:\\n',clss_report)"
   ]
  },
  {
   "cell_type": "code",
   "execution_count": 49,
   "id": "d549306b",
   "metadata": {
    "scrolled": true
   },
   "outputs": [
    {
     "name": "stdout",
     "output_type": "stream",
     "text": [
      "Accuracy For Testing: 0.77\n",
      "Accuracy For Training: 0.8\n"
     ]
    }
   ],
   "source": [
    "print('Accuracy For Testing:',np.around(accuracy_score(y_test,y_predict_test),2))\n",
    "print('Accuracy For Training:',np.around(accuracy_score(y_train,y_predict_train),2))"
   ]
  },
  {
   "cell_type": "markdown",
   "id": "d380bf80",
   "metadata": {},
   "source": [
    "## Hyperpyarameter Tuning"
   ]
  },
  {
   "cell_type": "code",
   "execution_count": 50,
   "id": "7a5912e5",
   "metadata": {},
   "outputs": [
    {
     "data": {
      "text/plain": [
       "{'n_neighbors': 23, 'p': 1}"
      ]
     },
     "execution_count": 50,
     "metadata": {},
     "output_type": "execute_result"
    }
   ],
   "source": [
    "knn_clf=KNeighborsClassifier()\n",
    "hyperpyarameter={'n_neighbors':np.arange(1,30),\n",
    "                'p':[1,2]}\n",
    "gscv_knn=GridSearchCV(knn_clf,hyperpyarameter,cv=5)\n",
    "gscv_knn.fit(x_train,y_train)\n",
    "gscv_knn.best_params_"
   ]
  },
  {
   "cell_type": "code",
   "execution_count": 51,
   "id": "7f9a3d2e",
   "metadata": {},
   "outputs": [
    {
     "data": {
      "text/plain": [
       "KNeighborsClassifier(n_neighbors=23, p=1)"
      ]
     },
     "execution_count": 51,
     "metadata": {},
     "output_type": "execute_result"
    }
   ],
   "source": [
    "gscv_knn.best_estimator_"
   ]
  },
  {
   "cell_type": "code",
   "execution_count": 52,
   "id": "0e1df4d2",
   "metadata": {},
   "outputs": [
    {
     "name": "stdout",
     "output_type": "stream",
     "text": [
      "CONFUSION_MATRIX:\n",
      " [[92 15]\n",
      " [20 27]]\n",
      "classification_report:\n",
      "               precision    recall  f1-score   support\n",
      "\n",
      "           0       0.82      0.86      0.84       107\n",
      "           1       0.64      0.57      0.61        47\n",
      "\n",
      "    accuracy                           0.77       154\n",
      "   macro avg       0.73      0.72      0.72       154\n",
      "weighted avg       0.77      0.77      0.77       154\n",
      "\n"
     ]
    }
   ],
   "source": [
    "#testing Evaluation\n",
    "y_predict_test=gscv_knn.predict(x_test)\n",
    "cnf_matrix=confusion_matrix(y_test,y_predict_test)\n",
    "clss_report=classification_report(y_test,y_predict_test)\n",
    "print('CONFUSION_MATRIX:\\n',cnf_matrix)\n",
    "print('classification_report:\\n',clss_report)"
   ]
  },
  {
   "cell_type": "code",
   "execution_count": 53,
   "id": "d0a7b665",
   "metadata": {},
   "outputs": [
    {
     "name": "stdout",
     "output_type": "stream",
     "text": [
      "CONFUSION_MATRIX:\n",
      " [[338  55]\n",
      " [ 88 133]]\n",
      "classification_report:\n",
      "               precision    recall  f1-score   support\n",
      "\n",
      "           0       0.79      0.86      0.83       393\n",
      "           1       0.71      0.60      0.65       221\n",
      "\n",
      "    accuracy                           0.77       614\n",
      "   macro avg       0.75      0.73      0.74       614\n",
      "weighted avg       0.76      0.77      0.76       614\n",
      "\n"
     ]
    }
   ],
   "source": [
    "#Training Evaluation\n",
    "y_predict_train=gscv_knn.predict(x_train)\n",
    "cnf_matrix=confusion_matrix(y_train,y_predict_train)\n",
    "clss_report=classification_report(y_train,y_predict_train)\n",
    "print('CONFUSION_MATRIX:\\n',cnf_matrix)\n",
    "print('classification_report:\\n',clss_report)"
   ]
  },
  {
   "cell_type": "code",
   "execution_count": 54,
   "id": "47b1c58f",
   "metadata": {
    "scrolled": true
   },
   "outputs": [
    {
     "name": "stdout",
     "output_type": "stream",
     "text": [
      "Accuracy For Testing: 0.77\n",
      "Accuracy For Training: 0.77\n"
     ]
    }
   ],
   "source": [
    "print('Accuracy For Testing:',np.around(accuracy_score(y_test,y_predict_test),2))\n",
    "print('Accuracy For Training:',np.around(accuracy_score(y_train,y_predict_train),2))"
   ]
  },
  {
   "cell_type": "markdown",
   "id": "864cd425",
   "metadata": {},
   "source": [
    "## Creating Random Forest Model"
   ]
  },
  {
   "cell_type": "code",
   "execution_count": 55,
   "id": "a63e7be1",
   "metadata": {},
   "outputs": [
    {
     "data": {
      "text/plain": [
       "RandomForestClassifier(random_state=12)"
      ]
     },
     "execution_count": 55,
     "metadata": {},
     "output_type": "execute_result"
    }
   ],
   "source": [
    "rf_model=RandomForestClassifier(random_state=12)\n",
    "rf_model.fit(x_train,y_train)"
   ]
  },
  {
   "cell_type": "code",
   "execution_count": 56,
   "id": "0a2ce58c",
   "metadata": {},
   "outputs": [
    {
     "name": "stdout",
     "output_type": "stream",
     "text": [
      "CONFUSION_MATRIX:\n",
      " [[94 13]\n",
      " [16 31]]\n",
      "classification_report:\n",
      "               precision    recall  f1-score   support\n",
      "\n",
      "           0       0.85      0.88      0.87       107\n",
      "           1       0.70      0.66      0.68        47\n",
      "\n",
      "    accuracy                           0.81       154\n",
      "   macro avg       0.78      0.77      0.77       154\n",
      "weighted avg       0.81      0.81      0.81       154\n",
      "\n"
     ]
    }
   ],
   "source": [
    "#testing Evaluation\n",
    "y_predict_test=rf_model.predict(x_test)\n",
    "cnf_matrix=confusion_matrix(y_test,y_predict_test)\n",
    "clss_report=classification_report(y_test,y_predict_test)\n",
    "print('CONFUSION_MATRIX:\\n',cnf_matrix)\n",
    "print('classification_report:\\n',clss_report)"
   ]
  },
  {
   "cell_type": "code",
   "execution_count": 57,
   "id": "c1457929",
   "metadata": {},
   "outputs": [
    {
     "name": "stdout",
     "output_type": "stream",
     "text": [
      "CONFUSION_MATRIX:\n",
      " [[393   0]\n",
      " [  0 221]]\n",
      "classification_report:\n",
      "               precision    recall  f1-score   support\n",
      "\n",
      "           0       1.00      1.00      1.00       393\n",
      "           1       1.00      1.00      1.00       221\n",
      "\n",
      "    accuracy                           1.00       614\n",
      "   macro avg       1.00      1.00      1.00       614\n",
      "weighted avg       1.00      1.00      1.00       614\n",
      "\n"
     ]
    }
   ],
   "source": [
    "#Training Evaluation\n",
    "y_predict_train=rf_model.predict(x_train)\n",
    "cnf_matrix=confusion_matrix(y_train,y_predict_train)\n",
    "clss_report=classification_report(y_train,y_predict_train)\n",
    "print('CONFUSION_MATRIX:\\n',cnf_matrix)\n",
    "print('classification_report:\\n',clss_report)"
   ]
  },
  {
   "cell_type": "code",
   "execution_count": 58,
   "id": "3f2de8de",
   "metadata": {},
   "outputs": [
    {
     "name": "stdout",
     "output_type": "stream",
     "text": [
      "Accuracy For Testing: 0.81\n",
      "Accuracy For Training: 1.0\n"
     ]
    }
   ],
   "source": [
    "print('Accuracy For Testing:',np.around(accuracy_score(y_test,y_predict_test),2))\n",
    "print('Accuracy For Training:',np.around(accuracy_score(y_train,y_predict_train),2))"
   ]
  },
  {
   "cell_type": "code",
   "execution_count": 59,
   "id": "2ee46ca2",
   "metadata": {},
   "outputs": [
    {
     "data": {
      "text/plain": [
       "{'random_state': 2,\n",
       " 'n_estimators': 60,\n",
       " 'min_samples_split': 6,\n",
       " 'min_samples_leaf': 5,\n",
       " 'max_depth': 8,\n",
       " 'criterion': 'entropy'}"
      ]
     },
     "execution_count": 59,
     "metadata": {},
     "output_type": "execute_result"
    }
   ],
   "source": [
    "rf_model=RandomForestClassifier(random_state=12)\n",
    "hyp={\"n_estimators\":np.arange(10,150),\n",
    "    'criterion':['gini','entropy'],\n",
    "    'max_depth':np.arange(5,15),\n",
    "    'min_samples_split':np.arange(5,20),\n",
    "    'min_samples_leaf':np.arange(4,15),\n",
    "    'random_state':np.arange(1,10)}\n",
    "rscv=RandomizedSearchCV(rf_model,hyp,cv=5)\n",
    "rscv.fit(x_train,y_train)\n",
    "rscv.best_params_"
   ]
  },
  {
   "cell_type": "code",
   "execution_count": 60,
   "id": "d38608e2",
   "metadata": {},
   "outputs": [
    {
     "name": "stdout",
     "output_type": "stream",
     "text": [
      "CONFUSION_MATRIX:\n",
      " [[97 10]\n",
      " [19 28]]\n",
      "classification_report:\n",
      "               precision    recall  f1-score   support\n",
      "\n",
      "           0       0.84      0.91      0.87       107\n",
      "           1       0.74      0.60      0.66        47\n",
      "\n",
      "    accuracy                           0.81       154\n",
      "   macro avg       0.79      0.75      0.76       154\n",
      "weighted avg       0.81      0.81      0.81       154\n",
      "\n"
     ]
    }
   ],
   "source": [
    "#testing Evaluation\n",
    "y_predict_test=rscv.predict(x_test)\n",
    "cnf_matrix=confusion_matrix(y_test,y_predict_test)\n",
    "clss_report=classification_report(y_test,y_predict_test)\n",
    "print('CONFUSION_MATRIX:\\n',cnf_matrix)\n",
    "print('classification_report:\\n',clss_report)"
   ]
  },
  {
   "cell_type": "code",
   "execution_count": 61,
   "id": "ac429850",
   "metadata": {},
   "outputs": [
    {
     "name": "stdout",
     "output_type": "stream",
     "text": [
      "CONFUSION_MATRIX:\n",
      " [[369  24]\n",
      " [ 40 181]]\n",
      "classification_report:\n",
      "               precision    recall  f1-score   support\n",
      "\n",
      "           0       0.90      0.94      0.92       393\n",
      "           1       0.88      0.82      0.85       221\n",
      "\n",
      "    accuracy                           0.90       614\n",
      "   macro avg       0.89      0.88      0.88       614\n",
      "weighted avg       0.90      0.90      0.89       614\n",
      "\n"
     ]
    }
   ],
   "source": [
    "#Training Evaluation\n",
    "y_predict_train=rscv.predict(x_train)\n",
    "cnf_matrix=confusion_matrix(y_train,y_predict_train)\n",
    "clss_report=classification_report(y_train,y_predict_train)\n",
    "print('CONFUSION_MATRIX:\\n',cnf_matrix)\n",
    "print('classification_report:\\n',clss_report)"
   ]
  },
  {
   "cell_type": "code",
   "execution_count": 62,
   "id": "098db4b1",
   "metadata": {},
   "outputs": [
    {
     "name": "stdout",
     "output_type": "stream",
     "text": [
      "Accuracy For Testing: 0.81\n",
      "Accuracy For Training: 0.9\n"
     ]
    }
   ],
   "source": [
    "print('Accuracy For Testing:',np.around(accuracy_score(y_test,y_predict_test),2))\n",
    "print('Accuracy For Training:',np.around(accuracy_score(y_train,y_predict_train),2))"
   ]
  },
  {
   "cell_type": "code",
   "execution_count": 64,
   "id": "3b5b02e0",
   "metadata": {},
   "outputs": [],
   "source": [
    "# # Creating a pickle file for the classifier\n",
    "filename = 'diabetes-prediction-rfc-model.pkl'\n",
    "pickle.dump(rscv,open(filename,'wb'))"
   ]
  },
  {
   "cell_type": "markdown",
   "id": "320e7e21",
   "metadata": {},
   "source": [
    "# THE END  #####"
   ]
  },
  {
   "cell_type": "code",
   "execution_count": null,
   "id": "8692e04e",
   "metadata": {},
   "outputs": [],
   "source": []
  }
 ],
 "metadata": {
  "kernelspec": {
   "display_name": "Python 3 (ipykernel)",
   "language": "python",
   "name": "python3"
  },
  "language_info": {
   "codemirror_mode": {
    "name": "ipython",
    "version": 3
   },
   "file_extension": ".py",
   "mimetype": "text/x-python",
   "name": "python",
   "nbconvert_exporter": "python",
   "pygments_lexer": "ipython3",
   "version": "3.9.13"
  }
 },
 "nbformat": 4,
 "nbformat_minor": 5
}
